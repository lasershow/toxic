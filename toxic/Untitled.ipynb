{
 "cells": [
  {
   "cell_type": "code",
   "execution_count": 1,
   "metadata": {},
   "outputs": [
    {
     "name": "stderr",
     "output_type": "stream",
     "text": [
      "Using TensorFlow backend.\n"
     ]
    }
   ],
   "source": [
    "from toxic.model import get_model\n",
    "from toxic.nltk_utils import tokenize_sentences\n",
    "from toxic.train_utils import train_folds\n",
    "from toxic.embedding_utils import read_embedding_list, clear_embedding_list, convert_tokens_to_ids\n",
    "\n",
    "import argparse\n",
    "import numpy as np\n",
    "import os\n",
    "import pandas as pd\n",
    "\n",
    "\n",
    "UNKNOWN_WORD = \"_UNK_\"\n",
    "END_WORD = \"_END_\"\n",
    "NAN_WORD = \"_NAN_\"\n",
    "TEST_FLAG = True\n",
    "\n",
    "CLASSES = [\"toxic\", \"severe_toxic\", \"obscene\", \"threat\", \"insult\", \"identity_hate\"]\n",
    "\n",
    "PROBABILITIES_NORMALIZE_COEFFICIENT = 1.4\n",
    "\n",
    "embedding_path = '/Users/akihiro/kaggle/toxic-comments/toxic/crawl-300d-2M.vec'\n",
    "train_file_path =  'train.csv'\n",
    "test_file_path = 'test.csv'\n",
    "\n",
    "def main():\n",
    "    print(\"Loading data...\")\n",
    "    train_data = pd.read_csv(train_file_path)\n",
    "    test_data = pd.read_csv(test_file_path)\n",
    "\n",
    "    if TEST_FLAG:\n",
    "        train_data = train_data[:1000]\n",
    "        test_data = test_data[:1000]\n",
    "\n",
    "    list_sentences_train = train_data[\"comment_text\"].fillna(NAN_WORD).values\n",
    "    list_sentences_test = test_data[\"comment_text\"].fillna(NAN_WORD).values\n",
    "    y_train = train_data[CLASSES].values\n",
    "\n",
    "    print(\"Tokenizing sentences in train set...\")\n",
    "    tokenized_sentences_train, words_dict = tokenize_sentences(list_sentences_train, {})\n",
    "\n",
    "    print(\"Tokenizing sentences in test set...\")\n",
    "    tokenized_sentences_test, words_dict = tokenize_sentences(list_sentences_test, words_dict)\n",
    "\n",
    "    words_dict[UNKNOWN_WORD] = len(words_dict)\n",
    "\n",
    "    print(\"Loading embeddings...\")\n",
    "    embedding_list, embedding_word_dict = read_embedding_list(embedding_path)\n",
    "    embedding_size = len(embedding_list[0])\n",
    "\n",
    "    print(\"Preparing data...\")\n",
    "    embedding_list, embedding_word_dict = clear_embedding_list(embedding_list, embedding_word_dict, words_dict)\n",
    "\n",
    "    embedding_word_dict[UNKNOWN_WORD] = len(embedding_word_dict)\n",
    "    embedding_list.append([0.] * embedding_size)\n",
    "    embedding_word_dict[END_WORD] = len(embedding_word_dict)\n",
    "    embedding_list.append([-1.] * embedding_size)\n",
    "\n",
    "    embedding_matrix = np.array(embedding_list)\n",
    "\n",
    "    id_to_word = dict((id, word) for word, id in words_dict.items())\n",
    "    train_list_of_token_ids = convert_tokens_to_ids(\n",
    "        tokenized_sentences_train,\n",
    "        id_to_word,\n",
    "        embedding_word_dict,\n",
    "        args.sentences_length)\n",
    "    test_list_of_token_ids = convert_tokens_to_ids(\n",
    "        tokenized_sentences_test,\n",
    "        id_to_word,\n",
    "        embedding_word_dict,\n",
    "        args.sentences_length)\n",
    "    X_train = np.array(train_list_of_token_ids)\n",
    "    X_test = np.array(test_list_of_token_ids)\n",
    "\n",
    "    get_model_func = lambda: get_model(\n",
    "        embedding_matrix,\n",
    "        args.sentences_length,\n",
    "        args.dropout_rate,\n",
    "        args.recurrent_units,\n",
    "        args.dense_size)\n",
    "\n",
    "    print(\"Starting to train models...\")\n",
    "    models = train_folds(X_train, y_train, args.fold_count, args.batch_size, get_model_func)\n",
    "\n",
    "    if not os.path.exists(args.result_path):\n",
    "        os.mkdir(args.result_path)\n",
    "\n",
    "    print(\"Predicting results...\")\n",
    "    test_predicts_list = []\n",
    "    for fold_id, model in enumerate(models):\n",
    "        model_path = os.path.join(args.result_path, \"model{0}_weights.npy\".format(fold_id))\n",
    "        np.save(model_path, model.get_weights())\n",
    "\n",
    "        test_predicts_path = os.path.join(args.result_path, \"test_predicts{0}.npy\".format(fold_id))\n",
    "        test_predicts = model.predict(X_test, batch_size=args.batch_size)\n",
    "        test_predicts_list.append(test_predicts)\n",
    "        np.save(test_predicts_path, test_predicts)\n",
    "\n",
    "    test_predicts = np.ones(test_predicts_list[0].shape)\n",
    "    for fold_predict in test_predicts_list:\n",
    "        test_predicts *= fold_predict\n",
    "\n",
    "    test_predicts **= (1. / len(test_predicts_list))\n",
    "    test_predicts **= PROBABILITIES_NORMALIZE_COEFFICIENT\n",
    "\n",
    "    test_ids = test_data[\"id\"].values\n",
    "    test_ids = test_ids.reshape((len(test_ids), 1))\n",
    "\n",
    "    test_predicts = pd.DataFrame(data=test_predicts, columns=CLASSES)\n",
    "    test_predicts[\"id\"] = test_ids\n",
    "    test_predicts = test_predicts[[\"id\"] + CLASSES]\n",
    "    submit_path = os.path.join(args.result_path, \"submit\")\n",
    "    test_predicts.to_csv(submit_path, index=False)\n",
    "\n",
    "\n",
    "\n",
    "    \n"
   ]
  },
  {
   "cell_type": "code",
   "execution_count": 2,
   "metadata": {},
   "outputs": [
    {
     "name": "stdout",
     "output_type": "stream",
     "text": [
      "Loading data...\n"
     ]
    },
    {
     "name": "stderr",
     "output_type": "stream",
     "text": [
      "  7%|▋         | 74/1000 [00:00<00:01, 731.59it/s]"
     ]
    },
    {
     "name": "stdout",
     "output_type": "stream",
     "text": [
      "Tokenizing sentences in train set...\n"
     ]
    },
    {
     "name": "stderr",
     "output_type": "stream",
     "text": [
      "100%|██████████| 1000/1000 [00:00<00:00, 1019.58it/s]\n",
      " 15%|█▍        | 146/1000 [00:00<00:00, 1432.11it/s]"
     ]
    },
    {
     "name": "stdout",
     "output_type": "stream",
     "text": [
      "Tokenizing sentences in test set...\n"
     ]
    },
    {
     "name": "stderr",
     "output_type": "stream",
     "text": [
      "100%|██████████| 1000/1000 [00:00<00:00, 1419.87it/s]\n"
     ]
    },
    {
     "name": "stdout",
     "output_type": "stream",
     "text": [
      "Loading embeddings...\n"
     ]
    },
    {
     "ename": "OSError",
     "evalue": "[Errno 22] Invalid argument",
     "output_type": "error",
     "traceback": [
      "\u001b[0;31m---------------------------------------------------------------------------\u001b[0m",
      "\u001b[0;31mOSError\u001b[0m                                   Traceback (most recent call last)",
      "\u001b[0;32m<ipython-input-2-58ca95c5b364>\u001b[0m in \u001b[0;36m<module>\u001b[0;34m()\u001b[0m\n\u001b[0;32m----> 1\u001b[0;31m \u001b[0mmain\u001b[0m\u001b[0;34m(\u001b[0m\u001b[0;34m)\u001b[0m\u001b[0;34m\u001b[0m\u001b[0m\n\u001b[0m",
      "\u001b[0;32m<ipython-input-1-e3002f4f6ffe>\u001b[0m in \u001b[0;36mmain\u001b[0;34m()\u001b[0m\n\u001b[1;32m     45\u001b[0m \u001b[0;34m\u001b[0m\u001b[0m\n\u001b[1;32m     46\u001b[0m     \u001b[0mprint\u001b[0m\u001b[0;34m(\u001b[0m\u001b[0;34m\"Loading embeddings...\"\u001b[0m\u001b[0;34m)\u001b[0m\u001b[0;34m\u001b[0m\u001b[0m\n\u001b[0;32m---> 47\u001b[0;31m     \u001b[0membedding_list\u001b[0m\u001b[0;34m,\u001b[0m \u001b[0membedding_word_dict\u001b[0m \u001b[0;34m=\u001b[0m \u001b[0mread_embedding_list\u001b[0m\u001b[0;34m(\u001b[0m\u001b[0membedding_path\u001b[0m\u001b[0;34m)\u001b[0m\u001b[0;34m\u001b[0m\u001b[0m\n\u001b[0m\u001b[1;32m     48\u001b[0m     \u001b[0membedding_size\u001b[0m \u001b[0;34m=\u001b[0m \u001b[0mlen\u001b[0m\u001b[0;34m(\u001b[0m\u001b[0membedding_list\u001b[0m\u001b[0;34m[\u001b[0m\u001b[0;36m0\u001b[0m\u001b[0;34m]\u001b[0m\u001b[0;34m)\u001b[0m\u001b[0;34m\u001b[0m\u001b[0m\n\u001b[1;32m     49\u001b[0m \u001b[0;34m\u001b[0m\u001b[0m\n",
      "\u001b[0;32m/Users/akihiro/kaggle/toxic-comments/toxic/toxic/embedding_utils.py\u001b[0m in \u001b[0;36mread_embedding_list\u001b[0;34m(file_path)\u001b[0m\n\u001b[1;32m      8\u001b[0m     \u001b[0;32mwith\u001b[0m \u001b[0mopen\u001b[0m\u001b[0;34m(\u001b[0m\u001b[0mfile_path\u001b[0m\u001b[0;34m)\u001b[0m \u001b[0;32mas\u001b[0m \u001b[0mf\u001b[0m\u001b[0;34m:\u001b[0m\u001b[0;34m\u001b[0m\u001b[0m\n\u001b[1;32m      9\u001b[0m         \u001b[0;31m# import pdb; pdb.set_trace()\u001b[0m\u001b[0;34m\u001b[0m\u001b[0;34m\u001b[0m\u001b[0m\n\u001b[0;32m---> 10\u001b[0;31m         \u001b[0;32mfor\u001b[0m \u001b[0mrow\u001b[0m \u001b[0;32min\u001b[0m \u001b[0mtqdm\u001b[0m\u001b[0;34m.\u001b[0m\u001b[0mtqdm\u001b[0m\u001b[0;34m(\u001b[0m\u001b[0mf\u001b[0m\u001b[0;34m.\u001b[0m\u001b[0mread\u001b[0m\u001b[0;34m(\u001b[0m\u001b[0;34m)\u001b[0m\u001b[0;34m.\u001b[0m\u001b[0msplit\u001b[0m\u001b[0;34m(\u001b[0m\u001b[0;34m\"\\n\"\u001b[0m\u001b[0;34m)\u001b[0m\u001b[0;34m[\u001b[0m\u001b[0;36m1\u001b[0m\u001b[0;34m:\u001b[0m\u001b[0;34m-\u001b[0m\u001b[0;36m1\u001b[0m\u001b[0;34m]\u001b[0m\u001b[0;34m)\u001b[0m\u001b[0;34m:\u001b[0m\u001b[0;34m\u001b[0m\u001b[0m\n\u001b[0m\u001b[1;32m     11\u001b[0m             \u001b[0mdata\u001b[0m \u001b[0;34m=\u001b[0m \u001b[0mrow\u001b[0m\u001b[0;34m.\u001b[0m\u001b[0msplit\u001b[0m\u001b[0;34m(\u001b[0m\u001b[0;34m\" \"\u001b[0m\u001b[0;34m)\u001b[0m\u001b[0;34m\u001b[0m\u001b[0m\n\u001b[1;32m     12\u001b[0m             \u001b[0mword\u001b[0m \u001b[0;34m=\u001b[0m \u001b[0mdata\u001b[0m\u001b[0;34m[\u001b[0m\u001b[0;36m0\u001b[0m\u001b[0;34m]\u001b[0m\u001b[0;34m\u001b[0m\u001b[0m\n",
      "\u001b[0;31mOSError\u001b[0m: [Errno 22] Invalid argument"
     ]
    }
   ],
   "source": [
    "main()"
   ]
  },
  {
   "cell_type": "code",
   "execution_count": null,
   "metadata": {
    "collapsed": true
   },
   "outputs": [],
   "source": []
  }
 ],
 "metadata": {
  "kernelspec": {
   "display_name": "Python 3",
   "language": "python",
   "name": "python3"
  },
  "language_info": {
   "codemirror_mode": {
    "name": "ipython",
    "version": 3
   },
   "file_extension": ".py",
   "mimetype": "text/x-python",
   "name": "python",
   "nbconvert_exporter": "python",
   "pygments_lexer": "ipython3",
   "version": "3.6.0"
  }
 },
 "nbformat": 4,
 "nbformat_minor": 2
}
